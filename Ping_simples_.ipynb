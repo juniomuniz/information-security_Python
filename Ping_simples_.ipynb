{
  "nbformat": 4,
  "nbformat_minor": 0,
  "metadata": {
    "colab": {
      "name": "Ping_simples .ipynb",
      "provenance": [],
      "authorship_tag": "ABX9TyOj5u32cBRBjOT+VHcFczbQ",
      "include_colab_link": true
    },
    "kernelspec": {
      "name": "python3",
      "display_name": "Python 3"
    },
    "language_info": {
      "name": "python"
    }
  },
  "cells": [
    {
      "cell_type": "markdown",
      "metadata": {
        "id": "view-in-github",
        "colab_type": "text"
      },
      "source": [
        "<a href=\"https://colab.research.google.com/github/juniomuniz/information-security_Python/blob/main/Ping_simples_.ipynb\" target=\"_parent\"><img src=\"https://colab.research.google.com/assets/colab-badge.svg\" alt=\"Open In Colab\"/></a>"
      ]
    },
    {
      "cell_type": "code",
      "metadata": {
        "colab": {
          "base_uri": "https://localhost:8080/"
        },
        "id": "nPxXOu2APNoZ",
        "outputId": "e487130a-ca22-4e2d-cc8d-da9b5e65eb9e"
      },
      "source": [
        "import os # import module or library\n",
        "\n",
        "print('# ' * 60) # print # 60 times\n",
        "ip_ou_host = input(\"digite o Ip ou host a ser verificado:\")# create a variable that it going to receive a ip\n",
        "print('-' * 60)\n",
        "os.system('ping -n 6 {}'.format(ip_ou_host))# call system of library OS command ping\n",
        "#-n - in package that it going to be 6 {}\n",
        "print('-' * 60)"
      ],
      "execution_count": 1,
      "outputs": [
        {
          "output_type": "stream",
          "name": "stdout",
          "text": [
            "# # # # # # # # # # # # # # # # # # # # # # # # # # # # # # # # # # # # # # # # # # # # # # # # # # # # # # # # # # # # \n",
            "digite o Ip ou host a ser verificado:8.8.8.8\n",
            "------------------------------------------------------------\n",
            "------------------------------------------------------------\n"
          ]
        }
      ]
    },
    {
      "cell_type": "code",
      "metadata": {
        "id": "skz-6cLcPOfA"
      },
      "source": [
        ""
      ],
      "execution_count": null,
      "outputs": []
    }
  ]
}