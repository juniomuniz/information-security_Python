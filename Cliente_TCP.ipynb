{
  "nbformat": 4,
  "nbformat_minor": 0,
  "metadata": {
    "colab": {
      "name": "Cliente TCP.ipynb",
      "provenance": [],
      "authorship_tag": "ABX9TyOrVF4tf1W23QvU8hDKs/KS",
      "include_colab_link": true
    },
    "kernelspec": {
      "name": "python3",
      "display_name": "Python 3"
    },
    "language_info": {
      "name": "python"
    }
  },
  "cells": [
    {
      "cell_type": "markdown",
      "metadata": {
        "id": "view-in-github",
        "colab_type": "text"
      },
      "source": [
        "<a href=\"https://colab.research.google.com/github/juniomuniz/information-security_Python/blob/main/Cliente_TCP.ipynb\" target=\"_parent\"><img src=\"https://colab.research.google.com/assets/colab-badge.svg\" alt=\"Open In Colab\"/></a>"
      ]
    },
    {
      "cell_type": "code",
      "metadata": {
        "colab": {
          "base_uri": "https://localhost:8080/"
        },
        "id": "sMOEScWEm40N",
        "outputId": "ca3bbce0-646e-4316-8399-b72546c813c5"
      },
      "source": [
        "import socket\n",
        "import sys\n",
        "\n",
        "\n",
        "def main():\n",
        "    try:\n",
        "        s = socket.socket(socket.AF_INET, socket.SOCK_STREAM, 0)\n",
        "    except socket.error as e:\n",
        "        print(\"A conexao falhou!\")\n",
        "        print(\"Erro: {}\".format(e))\n",
        "        sys.exit()\n",
        "\n",
        "    print(\"Socket criado com sucesso\")\n",
        "\n",
        "    HostAlvo = input(\"Digite o Host ou Ip a ser a ser conectado \")\n",
        "    PortaAlvo = input(\"Digite a porta\")\n",
        "\n",
        "    try:\n",
        "        s.connect((HostAlvo, int(PortaAlvo)))\n",
        "        print(\"Cliente TCP conectado com Sucesso no Host: \" + HostAlvo + \"e na Porta: \" + PortaAlvo)\n",
        "        s.shutdown(2)\n",
        "    except socket.error as e:\n",
        "        print(\"Nao foi possivel conectar no Host: \" + HostAlvo + \"- Porta :\" + PortaAlvo)\n",
        "        print(\"Erro: {}\".format(e))\n",
        "        sys.exit()\n",
        "\n",
        "\n",
        "if __name__ == \"__main__\":\n",
        "     main()"
      ],
      "execution_count": 1,
      "outputs": [
        {
          "output_type": "stream",
          "name": "stdout",
          "text": [
            "Socket criado com sucesso\n",
            "Digite o Host ou Ip a ser a ser conectado google.com\n",
            "Digite a porta80\n",
            "Cliente TCP conectado com Sucesso no Host: google.come na Porta: 80\n"
          ]
        }
      ]
    }
  ]
}